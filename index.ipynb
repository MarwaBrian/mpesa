{
 "cells": [
  {
   "cell_type": "markdown",
   "metadata": {},
   "source": [
    "Create a pipeline for the xml files, convert the entries to csv then move them to sqlite."
   ]
  },
  {
   "cell_type": "code",
   "execution_count": 1,
   "metadata": {},
   "outputs": [],
   "source": [
    "import pandas as pd\n",
    "import numpy as np\n",
    "import matplotlib.pyplot as plt \n",
    "import seaborn as sns\n",
    "import xmltodict as xd\n",
    "import string\n",
    "import re\n",
    "from datetime import datetime"
   ]
  },
  {
   "cell_type": "code",
   "execution_count": 2,
   "metadata": {},
   "outputs": [],
   "source": [
    "# #open and convert the xml to csv\n",
    "# with open('data/mochada_mpesa.xml', 'r') as file:\n",
    "#     data = xd.parse(file.read())\n",
    "\n",
    "\n",
    "# #extracting the messages\n",
    "# messages = data['smses']['sms']\n",
    "\n",
    "# #converting to dataframe\n",
    "# df = pd.DataFrame(messages)\n",
    "\n",
    "\n",
    "# #save as a csv(optional)\n",
    "# df.to_csv('mochada_sms.csv', index=False)\n",
    "\n",
    "# df.tail()"
   ]
  },
  {
   "cell_type": "markdown",
   "metadata": {},
   "source": [
    "With our xml file now as a csv file, we can start data wrangling."
   ]
  },
  {
   "cell_type": "markdown",
   "metadata": {},
   "source": [
    "## Data Wrangling\n",
    "Lets look at the columns of in our dataset, clean them if need be, and then move on to Exploratory Data Analysis, before training our algorithm."
   ]
  },
  {
   "cell_type": "code",
   "execution_count": 3,
   "metadata": {},
   "outputs": [
    {
     "name": "stdout",
     "output_type": "stream",
     "text": [
      "<class 'pandas.core.frame.DataFrame'>\n",
      "RangeIndex: 3080 entries, 0 to 3079\n",
      "Data columns (total 16 columns):\n",
      " #   Column           Non-Null Count  Dtype  \n",
      "---  ------           --------------  -----  \n",
      " 0   @protocol        3080 non-null   int64  \n",
      " 1   @address         3080 non-null   object \n",
      " 2   @date            3080 non-null   int64  \n",
      " 3   @type            3080 non-null   int64  \n",
      " 4   @subject         0 non-null      float64\n",
      " 5   @body            3080 non-null   object \n",
      " 6   @toa             0 non-null      float64\n",
      " 7   @sc_toa          0 non-null      float64\n",
      " 8   @service_center  3080 non-null   int64  \n",
      " 9   @read            3080 non-null   int64  \n",
      " 10  @status          3080 non-null   int64  \n",
      " 11  @locked          3080 non-null   int64  \n",
      " 12  @date_sent       3080 non-null   int64  \n",
      " 13  @sub_id          3080 non-null   int64  \n",
      " 14  @readable_date   3080 non-null   object \n",
      " 15  @contact_name    3080 non-null   object \n",
      "dtypes: float64(3), int64(9), object(4)\n",
      "memory usage: 385.1+ KB\n"
     ]
    }
   ],
   "source": [
    "#loading csv file\n",
    "df = pd.read_csv('mochada_sms.csv')\n",
    "\n",
    "df.info()"
   ]
  },
  {
   "cell_type": "code",
   "execution_count": 4,
   "metadata": {},
   "outputs": [
    {
     "data": {
      "text/html": [
       "<div>\n",
       "<style scoped>\n",
       "    .dataframe tbody tr th:only-of-type {\n",
       "        vertical-align: middle;\n",
       "    }\n",
       "\n",
       "    .dataframe tbody tr th {\n",
       "        vertical-align: top;\n",
       "    }\n",
       "\n",
       "    .dataframe thead th {\n",
       "        text-align: right;\n",
       "    }\n",
       "</style>\n",
       "<table border=\"1\" class=\"dataframe\">\n",
       "  <thead>\n",
       "    <tr style=\"text-align: right;\">\n",
       "      <th></th>\n",
       "      <th>@protocol</th>\n",
       "      <th>@address</th>\n",
       "      <th>@date</th>\n",
       "      <th>@type</th>\n",
       "      <th>@subject</th>\n",
       "      <th>@body</th>\n",
       "      <th>@toa</th>\n",
       "      <th>@sc_toa</th>\n",
       "      <th>@service_center</th>\n",
       "      <th>@read</th>\n",
       "      <th>@status</th>\n",
       "      <th>@locked</th>\n",
       "      <th>@date_sent</th>\n",
       "      <th>@sub_id</th>\n",
       "      <th>@readable_date</th>\n",
       "      <th>@contact_name</th>\n",
       "    </tr>\n",
       "  </thead>\n",
       "  <tbody>\n",
       "    <tr>\n",
       "      <th>0</th>\n",
       "      <td>0</td>\n",
       "      <td>MPESA</td>\n",
       "      <td>1713512313950</td>\n",
       "      <td>1</td>\n",
       "      <td>NaN</td>\n",
       "      <td>SDJ7N53FS3 Confirmed. On 19/4/24 at 10:38 AM T...</td>\n",
       "      <td>NaN</td>\n",
       "      <td>NaN</td>\n",
       "      <td>254722500040</td>\n",
       "      <td>1</td>\n",
       "      <td>-1</td>\n",
       "      <td>0</td>\n",
       "      <td>1713512297000</td>\n",
       "      <td>2</td>\n",
       "      <td>Apr 19, 2024 10:38:33 AM</td>\n",
       "      <td>(Unknown)</td>\n",
       "    </tr>\n",
       "    <tr>\n",
       "      <th>1</th>\n",
       "      <td>0</td>\n",
       "      <td>MPESA</td>\n",
       "      <td>1713512587737</td>\n",
       "      <td>1</td>\n",
       "      <td>NaN</td>\n",
       "      <td>SDJ9N5M21L Confirmed. On 19/4/24 at 10:42 AM T...</td>\n",
       "      <td>NaN</td>\n",
       "      <td>NaN</td>\n",
       "      <td>254722500040</td>\n",
       "      <td>1</td>\n",
       "      <td>-1</td>\n",
       "      <td>0</td>\n",
       "      <td>1713512571000</td>\n",
       "      <td>2</td>\n",
       "      <td>Apr 19, 2024 10:43:07 AM</td>\n",
       "      <td>(Unknown)</td>\n",
       "    </tr>\n",
       "  </tbody>\n",
       "</table>\n",
       "</div>"
      ],
      "text/plain": [
       "   @protocol @address          @date  @type  @subject  \\\n",
       "0          0    MPESA  1713512313950      1       NaN   \n",
       "1          0    MPESA  1713512587737      1       NaN   \n",
       "\n",
       "                                               @body  @toa  @sc_toa  \\\n",
       "0  SDJ7N53FS3 Confirmed. On 19/4/24 at 10:38 AM T...   NaN      NaN   \n",
       "1  SDJ9N5M21L Confirmed. On 19/4/24 at 10:42 AM T...   NaN      NaN   \n",
       "\n",
       "   @service_center  @read  @status  @locked     @date_sent  @sub_id  \\\n",
       "0     254722500040      1       -1        0  1713512297000        2   \n",
       "1     254722500040      1       -1        0  1713512571000        2   \n",
       "\n",
       "             @readable_date @contact_name  \n",
       "0  Apr 19, 2024 10:38:33 AM     (Unknown)  \n",
       "1  Apr 19, 2024 10:43:07 AM     (Unknown)  "
      ]
     },
     "execution_count": 4,
     "metadata": {},
     "output_type": "execute_result"
    }
   ],
   "source": [
    "df.head(2)"
   ]
  },
  {
   "cell_type": "markdown",
   "metadata": {},
   "source": [
    "Based on the output from the last cell, here is a general outline of what we will do:\n",
    "- Create a new dataframe with only three main columns; Address, Body, and readable date\n",
    "- Change readable date to pandas datetime object\n",
    "- Inspect and see what information to extract from the body ie balance amount, amount taken or given\n",
    "- Perform a weekly analysis from Wednesday to Tuesday\n",
    "- Calculate the monthly commission earned based on the transactions\n",
    "- Do a time series analysis of the dataset"
   ]
  },
  {
   "cell_type": "code",
   "execution_count": 5,
   "metadata": {},
   "outputs": [
    {
     "name": "stdout",
     "output_type": "stream",
     "text": [
      "<class 'pandas.core.frame.DataFrame'>\n",
      "RangeIndex: 3080 entries, 0 to 3079\n",
      "Data columns (total 3 columns):\n",
      " #   Column   Non-Null Count  Dtype \n",
      "---  ------   --------------  ----- \n",
      " 0   address  3080 non-null   object\n",
      " 1   body     3080 non-null   object\n",
      " 2   date     3080 non-null   object\n",
      "dtypes: object(3)\n",
      "memory usage: 72.3+ KB\n"
     ]
    }
   ],
   "source": [
    "#columns to keep\n",
    "keep = ['@address', '@body', '@readable_date']\n",
    "\n",
    "#new data frame \n",
    "data = df[keep].copy()\n",
    "\n",
    "#renaming the columns \n",
    "data.columns = ['address', 'body', 'date']\n",
    "data.info()"
   ]
  },
  {
   "cell_type": "code",
   "execution_count": 6,
   "metadata": {},
   "outputs": [
    {
     "name": "stdout",
     "output_type": "stream",
     "text": [
      "<class 'pandas.core.frame.DataFrame'>\n",
      "RangeIndex: 3080 entries, 0 to 3079\n",
      "Data columns (total 3 columns):\n",
      " #   Column   Non-Null Count  Dtype         \n",
      "---  ------   --------------  -----         \n",
      " 0   address  3080 non-null   object        \n",
      " 1   body     3080 non-null   object        \n",
      " 2   date     3080 non-null   datetime64[ns]\n",
      "dtypes: datetime64[ns](1), object(2)\n",
      "memory usage: 72.3+ KB\n"
     ]
    }
   ],
   "source": [
    "#converting the date into datetime object\n",
    "data['date'] = pd.to_datetime(data['date'])\n",
    "\n",
    "data.info()"
   ]
  },
  {
   "cell_type": "code",
   "execution_count": 7,
   "metadata": {},
   "outputs": [
    {
     "data": {
      "text/html": [
       "<div>\n",
       "<style scoped>\n",
       "    .dataframe tbody tr th:only-of-type {\n",
       "        vertical-align: middle;\n",
       "    }\n",
       "\n",
       "    .dataframe tbody tr th {\n",
       "        vertical-align: top;\n",
       "    }\n",
       "\n",
       "    .dataframe thead th {\n",
       "        text-align: right;\n",
       "    }\n",
       "</style>\n",
       "<table border=\"1\" class=\"dataframe\">\n",
       "  <thead>\n",
       "    <tr style=\"text-align: right;\">\n",
       "      <th></th>\n",
       "      <th>address</th>\n",
       "      <th>body</th>\n",
       "      <th>date</th>\n",
       "    </tr>\n",
       "  </thead>\n",
       "  <tbody>\n",
       "    <tr>\n",
       "      <th>3075</th>\n",
       "      <td>MPESA</td>\n",
       "      <td>SGS245L5GQ Confirmed. On 28/7/24 at 10:55 AM T...</td>\n",
       "      <td>2024-07-28 10:55:57</td>\n",
       "    </tr>\n",
       "    <tr>\n",
       "      <th>3076</th>\n",
       "      <td>MPESA</td>\n",
       "      <td>SGS8488HBK Confirmed. on 28/7/24 at 11:20 AM G...</td>\n",
       "      <td>2024-07-28 11:20:05</td>\n",
       "    </tr>\n",
       "    <tr>\n",
       "      <th>3077</th>\n",
       "      <td>MPESA</td>\n",
       "      <td>SGS449HBC6 Confirmed. On 28/7/24 at 11:31 AM T...</td>\n",
       "      <td>2024-07-28 11:31:31</td>\n",
       "    </tr>\n",
       "    <tr>\n",
       "      <th>3078</th>\n",
       "      <td>MPESA</td>\n",
       "      <td>SGS949ZVIH Confirmed. On 28/7/24 at 11:35 AM T...</td>\n",
       "      <td>2024-07-28 11:36:22</td>\n",
       "    </tr>\n",
       "    <tr>\n",
       "      <th>3079</th>\n",
       "      <td>MPESA</td>\n",
       "      <td>SGS04DA44U Confirmed. On 28/7/24 at 12:05 PM T...</td>\n",
       "      <td>2024-07-28 12:05:47</td>\n",
       "    </tr>\n",
       "  </tbody>\n",
       "</table>\n",
       "</div>"
      ],
      "text/plain": [
       "     address                                               body  \\\n",
       "3075   MPESA  SGS245L5GQ Confirmed. On 28/7/24 at 10:55 AM T...   \n",
       "3076   MPESA  SGS8488HBK Confirmed. on 28/7/24 at 11:20 AM G...   \n",
       "3077   MPESA  SGS449HBC6 Confirmed. On 28/7/24 at 11:31 AM T...   \n",
       "3078   MPESA  SGS949ZVIH Confirmed. On 28/7/24 at 11:35 AM T...   \n",
       "3079   MPESA  SGS04DA44U Confirmed. On 28/7/24 at 12:05 PM T...   \n",
       "\n",
       "                    date  \n",
       "3075 2024-07-28 10:55:57  \n",
       "3076 2024-07-28 11:20:05  \n",
       "3077 2024-07-28 11:31:31  \n",
       "3078 2024-07-28 11:36:22  \n",
       "3079 2024-07-28 12:05:47  "
      ]
     },
     "execution_count": 7,
     "metadata": {},
     "output_type": "execute_result"
    }
   ],
   "source": [
    "data.tail()"
   ]
  },
  {
   "cell_type": "markdown",
   "metadata": {},
   "source": [
    "With the new dataframe created, it seems most of the information is contained in the `body` column. Lets load one entry of this column and see what information is relevant to be extracted."
   ]
  },
  {
   "cell_type": "code",
   "execution_count": 8,
   "metadata": {},
   "outputs": [
    {
     "data": {
      "text/plain": [
       "'SDJ4N12JZY Confirmed. On 19/4/24 at 10:03 AM Take Ksh300.00 cash from NICKSON MIDUNGA CHOGO Your M-PESA float balance is Ksh83,107.00. Click the link to Download M-Pesa Agent App and Transact the SMART way https://bit.ly/3Ll6JQU'"
      ]
     },
     "execution_count": 8,
     "metadata": {},
     "output_type": "execute_result"
    }
   ],
   "source": [
    "data['body'].iloc[4]"
   ]
  },
  {
   "cell_type": "markdown",
   "metadata": {},
   "source": [
    "There is a unique `transaction ID` for each entry, then the status; `confirmed` or `failed`, transaction type; `take` or `give`, the `amount`, `name` of the customer and the `balance` remaining. \n",
    "\n",
    "Lets do some string manipulation."
   ]
  },
  {
   "cell_type": "code",
   "execution_count": 9,
   "metadata": {},
   "outputs": [
    {
     "data": {
      "text/html": [
       "<div>\n",
       "<style scoped>\n",
       "    .dataframe tbody tr th:only-of-type {\n",
       "        vertical-align: middle;\n",
       "    }\n",
       "\n",
       "    .dataframe tbody tr th {\n",
       "        vertical-align: top;\n",
       "    }\n",
       "\n",
       "    .dataframe thead th {\n",
       "        text-align: right;\n",
       "    }\n",
       "</style>\n",
       "<table border=\"1\" class=\"dataframe\">\n",
       "  <thead>\n",
       "    <tr style=\"text-align: right;\">\n",
       "      <th></th>\n",
       "      <th>address</th>\n",
       "      <th>body</th>\n",
       "      <th>date</th>\n",
       "      <th>unique_id</th>\n",
       "      <th>transaction_id</th>\n",
       "    </tr>\n",
       "  </thead>\n",
       "  <tbody>\n",
       "    <tr>\n",
       "      <th>3060</th>\n",
       "      <td>MPESA</td>\n",
       "      <td>Failed. Kindly capture the correct mobile numb...</td>\n",
       "      <td>2024-07-26 21:28:51</td>\n",
       "      <td>Failed</td>\n",
       "      <td>False</td>\n",
       "    </tr>\n",
       "    <tr>\n",
       "      <th>3061</th>\n",
       "      <td>MPESA</td>\n",
       "      <td>SGQ6Y1H018 Confirmed. On 26/7/24 at 9:29 PM Gi...</td>\n",
       "      <td>2024-07-26 21:29:33</td>\n",
       "      <td>SGQ6Y1H018</td>\n",
       "      <td>True</td>\n",
       "    </tr>\n",
       "    <tr>\n",
       "      <th>3062</th>\n",
       "      <td>MPESA</td>\n",
       "      <td>SGQ6Y1H018 Confirmed. On 26/7/24 at 9:29 PM Ta...</td>\n",
       "      <td>2024-07-26 21:29:43</td>\n",
       "      <td>SGQ6Y1H018</td>\n",
       "      <td>True</td>\n",
       "    </tr>\n",
       "    <tr>\n",
       "      <th>3063</th>\n",
       "      <td>MPESA</td>\n",
       "      <td>The customer is not registered to M-PESA and a...</td>\n",
       "      <td>2024-07-26 21:31:11</td>\n",
       "      <td>The</td>\n",
       "      <td>False</td>\n",
       "    </tr>\n",
       "    <tr>\n",
       "      <th>3064</th>\n",
       "      <td>MPESA</td>\n",
       "      <td>SGQ4Y1RXI6 Confirmed. On 26/7/24 at 9:31 PM Ta...</td>\n",
       "      <td>2024-07-26 21:32:02</td>\n",
       "      <td>SGQ4Y1RXI6</td>\n",
       "      <td>True</td>\n",
       "    </tr>\n",
       "    <tr>\n",
       "      <th>3065</th>\n",
       "      <td>MPESA</td>\n",
       "      <td>SGQ6Y1YOHQ Confirmed. Ksh400.00 sent to Equity...</td>\n",
       "      <td>2024-07-26 21:33:31</td>\n",
       "      <td>SGQ6Y1YOHQ</td>\n",
       "      <td>True</td>\n",
       "    </tr>\n",
       "    <tr>\n",
       "      <th>3066</th>\n",
       "      <td>MPESA</td>\n",
       "      <td>SGR12163XV Confirmed. Ksh100.00 sent to CLAIRE...</td>\n",
       "      <td>2024-07-27 18:24:19</td>\n",
       "      <td>SGR12163XV</td>\n",
       "      <td>True</td>\n",
       "    </tr>\n",
       "    <tr>\n",
       "      <th>3067</th>\n",
       "      <td>MPESA</td>\n",
       "      <td>SGS83T5DGW Confirmed. On 28/7/24 at 8:58 AM Ta...</td>\n",
       "      <td>2024-07-28 08:59:11</td>\n",
       "      <td>SGS83T5DGW</td>\n",
       "      <td>True</td>\n",
       "    </tr>\n",
       "    <tr>\n",
       "      <th>3068</th>\n",
       "      <td>MPESA</td>\n",
       "      <td>SGS43U9NDQ Confirmed. On 28/7/24 at 9:10 AM Ta...</td>\n",
       "      <td>2024-07-28 09:10:15</td>\n",
       "      <td>SGS43U9NDQ</td>\n",
       "      <td>True</td>\n",
       "    </tr>\n",
       "    <tr>\n",
       "      <th>3069</th>\n",
       "      <td>MPESA</td>\n",
       "      <td>SGS03XREVC Confirmed. On 28/7/24 at 9:43 AM Ta...</td>\n",
       "      <td>2024-07-28 09:43:46</td>\n",
       "      <td>SGS03XREVC</td>\n",
       "      <td>True</td>\n",
       "    </tr>\n",
       "    <tr>\n",
       "      <th>3070</th>\n",
       "      <td>MPESA</td>\n",
       "      <td>SGS33XYP3F Confirmed. on 28/7/24 at 9:45 AM Gi...</td>\n",
       "      <td>2024-07-28 09:45:25</td>\n",
       "      <td>SGS33XYP3F</td>\n",
       "      <td>True</td>\n",
       "    </tr>\n",
       "    <tr>\n",
       "      <th>3071</th>\n",
       "      <td>MPESA</td>\n",
       "      <td>SGS33YLZY1 Confirmed. on 28/7/24 at 9:51 AM Gi...</td>\n",
       "      <td>2024-07-28 09:51:32</td>\n",
       "      <td>SGS33YLZY1</td>\n",
       "      <td>True</td>\n",
       "    </tr>\n",
       "    <tr>\n",
       "      <th>3072</th>\n",
       "      <td>MPESA</td>\n",
       "      <td>SGS03YVQME Confirmed. On 28/7/24 at 9:54 AM Ta...</td>\n",
       "      <td>2024-07-28 09:54:29</td>\n",
       "      <td>SGS03YVQME</td>\n",
       "      <td>True</td>\n",
       "    </tr>\n",
       "    <tr>\n",
       "      <th>3073</th>\n",
       "      <td>MPESA</td>\n",
       "      <td>SGS63Z7FII Confirmed. on 28/7/24 at 9:57 AM Gi...</td>\n",
       "      <td>2024-07-28 09:57:13</td>\n",
       "      <td>SGS63Z7FII</td>\n",
       "      <td>True</td>\n",
       "    </tr>\n",
       "    <tr>\n",
       "      <th>3074</th>\n",
       "      <td>MPESA</td>\n",
       "      <td>SGS444M4UK Confirmed. on 28/7/24 at 10:46 AM G...</td>\n",
       "      <td>2024-07-28 10:46:49</td>\n",
       "      <td>SGS444M4UK</td>\n",
       "      <td>True</td>\n",
       "    </tr>\n",
       "    <tr>\n",
       "      <th>3075</th>\n",
       "      <td>MPESA</td>\n",
       "      <td>SGS245L5GQ Confirmed. On 28/7/24 at 10:55 AM T...</td>\n",
       "      <td>2024-07-28 10:55:57</td>\n",
       "      <td>SGS245L5GQ</td>\n",
       "      <td>True</td>\n",
       "    </tr>\n",
       "    <tr>\n",
       "      <th>3076</th>\n",
       "      <td>MPESA</td>\n",
       "      <td>SGS8488HBK Confirmed. on 28/7/24 at 11:20 AM G...</td>\n",
       "      <td>2024-07-28 11:20:05</td>\n",
       "      <td>SGS8488HBK</td>\n",
       "      <td>True</td>\n",
       "    </tr>\n",
       "    <tr>\n",
       "      <th>3077</th>\n",
       "      <td>MPESA</td>\n",
       "      <td>SGS449HBC6 Confirmed. On 28/7/24 at 11:31 AM T...</td>\n",
       "      <td>2024-07-28 11:31:31</td>\n",
       "      <td>SGS449HBC6</td>\n",
       "      <td>True</td>\n",
       "    </tr>\n",
       "    <tr>\n",
       "      <th>3078</th>\n",
       "      <td>MPESA</td>\n",
       "      <td>SGS949ZVIH Confirmed. On 28/7/24 at 11:35 AM T...</td>\n",
       "      <td>2024-07-28 11:36:22</td>\n",
       "      <td>SGS949ZVIH</td>\n",
       "      <td>True</td>\n",
       "    </tr>\n",
       "    <tr>\n",
       "      <th>3079</th>\n",
       "      <td>MPESA</td>\n",
       "      <td>SGS04DA44U Confirmed. On 28/7/24 at 12:05 PM T...</td>\n",
       "      <td>2024-07-28 12:05:47</td>\n",
       "      <td>SGS04DA44U</td>\n",
       "      <td>True</td>\n",
       "    </tr>\n",
       "  </tbody>\n",
       "</table>\n",
       "</div>"
      ],
      "text/plain": [
       "     address                                               body  \\\n",
       "3060   MPESA  Failed. Kindly capture the correct mobile numb...   \n",
       "3061   MPESA  SGQ6Y1H018 Confirmed. On 26/7/24 at 9:29 PM Gi...   \n",
       "3062   MPESA  SGQ6Y1H018 Confirmed. On 26/7/24 at 9:29 PM Ta...   \n",
       "3063   MPESA  The customer is not registered to M-PESA and a...   \n",
       "3064   MPESA  SGQ4Y1RXI6 Confirmed. On 26/7/24 at 9:31 PM Ta...   \n",
       "3065   MPESA  SGQ6Y1YOHQ Confirmed. Ksh400.00 sent to Equity...   \n",
       "3066   MPESA  SGR12163XV Confirmed. Ksh100.00 sent to CLAIRE...   \n",
       "3067   MPESA  SGS83T5DGW Confirmed. On 28/7/24 at 8:58 AM Ta...   \n",
       "3068   MPESA  SGS43U9NDQ Confirmed. On 28/7/24 at 9:10 AM Ta...   \n",
       "3069   MPESA  SGS03XREVC Confirmed. On 28/7/24 at 9:43 AM Ta...   \n",
       "3070   MPESA  SGS33XYP3F Confirmed. on 28/7/24 at 9:45 AM Gi...   \n",
       "3071   MPESA  SGS33YLZY1 Confirmed. on 28/7/24 at 9:51 AM Gi...   \n",
       "3072   MPESA  SGS03YVQME Confirmed. On 28/7/24 at 9:54 AM Ta...   \n",
       "3073   MPESA  SGS63Z7FII Confirmed. on 28/7/24 at 9:57 AM Gi...   \n",
       "3074   MPESA  SGS444M4UK Confirmed. on 28/7/24 at 10:46 AM G...   \n",
       "3075   MPESA  SGS245L5GQ Confirmed. On 28/7/24 at 10:55 AM T...   \n",
       "3076   MPESA  SGS8488HBK Confirmed. on 28/7/24 at 11:20 AM G...   \n",
       "3077   MPESA  SGS449HBC6 Confirmed. On 28/7/24 at 11:31 AM T...   \n",
       "3078   MPESA  SGS949ZVIH Confirmed. On 28/7/24 at 11:35 AM T...   \n",
       "3079   MPESA  SGS04DA44U Confirmed. On 28/7/24 at 12:05 PM T...   \n",
       "\n",
       "                    date   unique_id  transaction_id  \n",
       "3060 2024-07-26 21:28:51      Failed           False  \n",
       "3061 2024-07-26 21:29:33  SGQ6Y1H018            True  \n",
       "3062 2024-07-26 21:29:43  SGQ6Y1H018            True  \n",
       "3063 2024-07-26 21:31:11         The           False  \n",
       "3064 2024-07-26 21:32:02  SGQ4Y1RXI6            True  \n",
       "3065 2024-07-26 21:33:31  SGQ6Y1YOHQ            True  \n",
       "3066 2024-07-27 18:24:19  SGR12163XV            True  \n",
       "3067 2024-07-28 08:59:11  SGS83T5DGW            True  \n",
       "3068 2024-07-28 09:10:15  SGS43U9NDQ            True  \n",
       "3069 2024-07-28 09:43:46  SGS03XREVC            True  \n",
       "3070 2024-07-28 09:45:25  SGS33XYP3F            True  \n",
       "3071 2024-07-28 09:51:32  SGS33YLZY1            True  \n",
       "3072 2024-07-28 09:54:29  SGS03YVQME            True  \n",
       "3073 2024-07-28 09:57:13  SGS63Z7FII            True  \n",
       "3074 2024-07-28 10:46:49  SGS444M4UK            True  \n",
       "3075 2024-07-28 10:55:57  SGS245L5GQ            True  \n",
       "3076 2024-07-28 11:20:05  SGS8488HBK            True  \n",
       "3077 2024-07-28 11:31:31  SGS449HBC6            True  \n",
       "3078 2024-07-28 11:36:22  SGS949ZVIH            True  \n",
       "3079 2024-07-28 12:05:47  SGS04DA44U            True  "
      ]
     },
     "execution_count": 9,
     "metadata": {},
     "output_type": "execute_result"
    }
   ],
   "source": [
    "transaction_id_pattern = r'^[A-Z0-9]{10}$'\n",
    "\n",
    "#extract the first bit of each string to a new column\n",
    "data['unique_id'] = data['body'].str.extract(r'^(\\w+)')\n",
    "\n",
    "#create a new column to validate the transaction codes\n",
    "data['transaction_id'] = data['unique_id'].str.match(f'^{transaction_id_pattern}$')\n",
    "\n",
    "data.tail(20)"
   ]
  },
  {
   "cell_type": "code",
   "execution_count": 10,
   "metadata": {},
   "outputs": [
    {
     "data": {
      "text/plain": [
       "array([ True])"
      ]
     },
     "execution_count": 10,
     "metadata": {},
     "output_type": "execute_result"
    }
   ],
   "source": [
    "\n",
    "#lets separate valid transactions from other messages\n",
    "valid_transactions = data[data['transaction_id']].copy()\n",
    "others = data[~data['transaction_id']].copy()\n",
    "\n",
    "valid_transactions['transaction_id'].unique()"
   ]
  },
  {
   "cell_type": "code",
   "execution_count": 11,
   "metadata": {},
   "outputs": [
    {
     "data": {
      "text/html": [
       "<div>\n",
       "<style scoped>\n",
       "    .dataframe tbody tr th:only-of-type {\n",
       "        vertical-align: middle;\n",
       "    }\n",
       "\n",
       "    .dataframe tbody tr th {\n",
       "        vertical-align: top;\n",
       "    }\n",
       "\n",
       "    .dataframe thead th {\n",
       "        text-align: right;\n",
       "    }\n",
       "</style>\n",
       "<table border=\"1\" class=\"dataframe\">\n",
       "  <thead>\n",
       "    <tr style=\"text-align: right;\">\n",
       "      <th></th>\n",
       "      <th>address</th>\n",
       "      <th>body</th>\n",
       "      <th>date</th>\n",
       "      <th>unique_id</th>\n",
       "      <th>transaction_id</th>\n",
       "    </tr>\n",
       "  </thead>\n",
       "  <tbody>\n",
       "    <tr>\n",
       "      <th>0</th>\n",
       "      <td>MPESA</td>\n",
       "      <td>SDJ7N53FS3 Confirmed. On 19/4/24 at 10:38 AM T...</td>\n",
       "      <td>2024-04-19 10:38:33</td>\n",
       "      <td>SDJ7N53FS3</td>\n",
       "      <td>True</td>\n",
       "    </tr>\n",
       "    <tr>\n",
       "      <th>1</th>\n",
       "      <td>MPESA</td>\n",
       "      <td>SDJ9N5M21L Confirmed. On 19/4/24 at 10:42 AM T...</td>\n",
       "      <td>2024-04-19 10:43:07</td>\n",
       "      <td>SDJ9N5M21L</td>\n",
       "      <td>True</td>\n",
       "    </tr>\n",
       "    <tr>\n",
       "      <th>2</th>\n",
       "      <td>MPESA</td>\n",
       "      <td>SDJ9MU5DIL Confirmed. On 19/4/24 at 8:57 AM Ta...</td>\n",
       "      <td>2024-04-19 10:43:09</td>\n",
       "      <td>SDJ9MU5DIL</td>\n",
       "      <td>True</td>\n",
       "    </tr>\n",
       "    <tr>\n",
       "      <th>3</th>\n",
       "      <td>MPESA</td>\n",
       "      <td>SDJ2MYL302 Confirmed. On 19/4/24 at 9:39 AM Ta...</td>\n",
       "      <td>2024-04-19 10:43:10</td>\n",
       "      <td>SDJ2MYL302</td>\n",
       "      <td>True</td>\n",
       "    </tr>\n",
       "    <tr>\n",
       "      <th>4</th>\n",
       "      <td>MPESA</td>\n",
       "      <td>SDJ4N12JZY Confirmed. On 19/4/24 at 10:03 AM T...</td>\n",
       "      <td>2024-04-19 10:43:13</td>\n",
       "      <td>SDJ4N12JZY</td>\n",
       "      <td>True</td>\n",
       "    </tr>\n",
       "  </tbody>\n",
       "</table>\n",
       "</div>"
      ],
      "text/plain": [
       "  address                                               body  \\\n",
       "0   MPESA  SDJ7N53FS3 Confirmed. On 19/4/24 at 10:38 AM T...   \n",
       "1   MPESA  SDJ9N5M21L Confirmed. On 19/4/24 at 10:42 AM T...   \n",
       "2   MPESA  SDJ9MU5DIL Confirmed. On 19/4/24 at 8:57 AM Ta...   \n",
       "3   MPESA  SDJ2MYL302 Confirmed. On 19/4/24 at 9:39 AM Ta...   \n",
       "4   MPESA  SDJ4N12JZY Confirmed. On 19/4/24 at 10:03 AM T...   \n",
       "\n",
       "                 date   unique_id  transaction_id  \n",
       "0 2024-04-19 10:38:33  SDJ7N53FS3            True  \n",
       "1 2024-04-19 10:43:07  SDJ9N5M21L            True  \n",
       "2 2024-04-19 10:43:09  SDJ9MU5DIL            True  \n",
       "3 2024-04-19 10:43:10  SDJ2MYL302            True  \n",
       "4 2024-04-19 10:43:13  SDJ4N12JZY            True  "
      ]
     },
     "execution_count": 11,
     "metadata": {},
     "output_type": "execute_result"
    }
   ],
   "source": [
    "valid_transactions.head()"
   ]
  },
  {
   "cell_type": "code",
   "execution_count": 12,
   "metadata": {},
   "outputs": [
    {
     "data": {
      "text/plain": [
       "array([False])"
      ]
     },
     "execution_count": 12,
     "metadata": {},
     "output_type": "execute_result"
    }
   ],
   "source": [
    "others['transaction_id'].unique()"
   ]
  },
  {
   "cell_type": "code",
   "execution_count": 13,
   "metadata": {},
   "outputs": [
    {
     "data": {
      "text/html": [
       "<div>\n",
       "<style scoped>\n",
       "    .dataframe tbody tr th:only-of-type {\n",
       "        vertical-align: middle;\n",
       "    }\n",
       "\n",
       "    .dataframe tbody tr th {\n",
       "        vertical-align: top;\n",
       "    }\n",
       "\n",
       "    .dataframe thead th {\n",
       "        text-align: right;\n",
       "    }\n",
       "</style>\n",
       "<table border=\"1\" class=\"dataframe\">\n",
       "  <thead>\n",
       "    <tr style=\"text-align: right;\">\n",
       "      <th></th>\n",
       "      <th>address</th>\n",
       "      <th>body</th>\n",
       "      <th>date</th>\n",
       "      <th>unique_id</th>\n",
       "      <th>transaction_id</th>\n",
       "    </tr>\n",
       "  </thead>\n",
       "  <tbody>\n",
       "    <tr>\n",
       "      <th>11</th>\n",
       "      <td>MPESA</td>\n",
       "      <td>Failed. Kindly capture the correct mobile numb...</td>\n",
       "      <td>2024-04-19 13:08:40</td>\n",
       "      <td>Failed</td>\n",
       "      <td>False</td>\n",
       "    </tr>\n",
       "    <tr>\n",
       "      <th>58</th>\n",
       "      <td>MPESA</td>\n",
       "      <td>Failed. Kindly capture the correct mobile numb...</td>\n",
       "      <td>2024-04-21 15:01:53</td>\n",
       "      <td>Failed</td>\n",
       "      <td>False</td>\n",
       "    </tr>\n",
       "    <tr>\n",
       "      <th>62</th>\n",
       "      <td>MPESA</td>\n",
       "      <td>Failed. Kindly capture the correct mobile numb...</td>\n",
       "      <td>2024-04-21 15:20:40</td>\n",
       "      <td>Failed</td>\n",
       "      <td>False</td>\n",
       "    </tr>\n",
       "    <tr>\n",
       "      <th>69</th>\n",
       "      <td>MPESA</td>\n",
       "      <td>Failed. Kindly capture the correct mobile numb...</td>\n",
       "      <td>2024-04-21 19:15:23</td>\n",
       "      <td>Failed</td>\n",
       "      <td>False</td>\n",
       "    </tr>\n",
       "    <tr>\n",
       "      <th>88</th>\n",
       "      <td>MPESA</td>\n",
       "      <td>Failed. Kindly capture the correct mobile numb...</td>\n",
       "      <td>2024-04-22 10:00:08</td>\n",
       "      <td>Failed</td>\n",
       "      <td>False</td>\n",
       "    </tr>\n",
       "  </tbody>\n",
       "</table>\n",
       "</div>"
      ],
      "text/plain": [
       "   address                                               body  \\\n",
       "11   MPESA  Failed. Kindly capture the correct mobile numb...   \n",
       "58   MPESA  Failed. Kindly capture the correct mobile numb...   \n",
       "62   MPESA  Failed. Kindly capture the correct mobile numb...   \n",
       "69   MPESA  Failed. Kindly capture the correct mobile numb...   \n",
       "88   MPESA  Failed. Kindly capture the correct mobile numb...   \n",
       "\n",
       "                  date unique_id  transaction_id  \n",
       "11 2024-04-19 13:08:40    Failed           False  \n",
       "58 2024-04-21 15:01:53    Failed           False  \n",
       "62 2024-04-21 15:20:40    Failed           False  \n",
       "69 2024-04-21 19:15:23    Failed           False  \n",
       "88 2024-04-22 10:00:08    Failed           False  "
      ]
     },
     "execution_count": 13,
     "metadata": {},
     "output_type": "execute_result"
    }
   ],
   "source": [
    "others.head()"
   ]
  },
  {
   "cell_type": "markdown",
   "metadata": {},
   "source": [
    "Lets move to extracting the `transaction type` and `amount transacted`."
   ]
  },
  {
   "cell_type": "code",
   "execution_count": 14,
   "metadata": {},
   "outputs": [
    {
     "data": {
      "text/plain": [
       "'SDJ4NEIHH0 Confirmed. On 19/4/24 at 11:59 AM Take Ksh500.00 cash from CHRISTINE OKUKU Your M-PESA float balance is Ksh80,307.00. Click the link to Download M-Pesa Agent App and Transact the SMART way https://bit.ly/3Ll6JQU'"
      ]
     },
     "execution_count": 14,
     "metadata": {},
     "output_type": "execute_result"
    }
   ],
   "source": [
    "data['body'].iloc[7]"
   ]
  },
  {
   "cell_type": "code",
   "execution_count": 15,
   "metadata": {},
   "outputs": [
    {
     "data": {
      "text/plain": [
       "array(['Confirmed', 'confirmed', 'Business Deposit Confirmed', None],\n",
       "      dtype=object)"
      ]
     },
     "execution_count": 15,
     "metadata": {},
     "output_type": "execute_result"
    }
   ],
   "source": [
    "transaction_type_pattern = r'(Confirmed|Business\\sDeposit\\sConfirmed)'\n",
    "compiled_pattern = re.compile(transaction_type_pattern, re.IGNORECASE)\n",
    "\n",
    "#extract transaction type function\n",
    "def extract_transaction_status(text):\n",
    "    match = compiled_pattern.search(text)\n",
    "    return match.group(0) if match else None\n",
    "\n",
    "#apply function\n",
    "valid_transactions['transaction_status_extracted'] = valid_transactions['body'].apply(extract_transaction_status)\n",
    "valid_transactions['transaction_status_extracted'].unique()\n"
   ]
  },
  {
   "cell_type": "markdown",
   "metadata": {},
   "source": [
    "Now lets move to the `transaction type`."
   ]
  },
  {
   "cell_type": "code",
   "execution_count": 16,
   "metadata": {},
   "outputs": [
    {
     "name": "stdout",
     "output_type": "stream",
     "text": [
      "<class 'pandas.core.series.Series'>\n",
      "Int64Index: 2871 entries, 0 to 3079\n",
      "Series name: transaction_type\n",
      "Non-Null Count  Dtype \n",
      "--------------  ----- \n",
      "2531 non-null   object\n",
      "dtypes: object(1)\n",
      "memory usage: 44.9+ KB\n"
     ]
    }
   ],
   "source": [
    "action_pattern = r'(Take|Give|transferred from Working to Float)'\n",
    "\n",
    "compiled_action = re.compile(action_pattern, re.IGNORECASE)\n",
    "\n",
    "def extract_transaction_type(text):\n",
    "    match = compiled_action.search(text)\n",
    "    return match.group(0) if match else None\n",
    "\n",
    "#applying the function\n",
    "valid_transactions['transaction_type'] = valid_transactions['body'].apply(extract_transaction_type)\n",
    "valid_transactions['transaction_type'].info()"
   ]
  },
  {
   "cell_type": "code",
   "execution_count": 17,
   "metadata": {},
   "outputs": [
    {
     "data": {
      "text/plain": [
       "array(['Take', None, 'Give', 'transferred from Working to Float'],\n",
       "      dtype=object)"
      ]
     },
     "execution_count": 17,
     "metadata": {},
     "output_type": "execute_result"
    }
   ],
   "source": [
    "valid_transactions['transaction_type'].unique()"
   ]
  },
  {
   "cell_type": "code",
   "execution_count": 18,
   "metadata": {},
   "outputs": [
    {
     "name": "stdout",
     "output_type": "stream",
     "text": [
      "<class 'pandas.core.frame.DataFrame'>\n",
      "Int64Index: 2531 entries, 0 to 3079\n",
      "Data columns (total 7 columns):\n",
      " #   Column                        Non-Null Count  Dtype         \n",
      "---  ------                        --------------  -----         \n",
      " 0   address                       2531 non-null   object        \n",
      " 1   body                          2531 non-null   object        \n",
      " 2   date                          2531 non-null   datetime64[ns]\n",
      " 3   unique_id                     2531 non-null   object        \n",
      " 4   transaction_id                2531 non-null   bool          \n",
      " 5   transaction_status_extracted  2531 non-null   object        \n",
      " 6   transaction_type              2531 non-null   object        \n",
      "dtypes: bool(1), datetime64[ns](1), object(5)\n",
      "memory usage: 140.9+ KB\n"
     ]
    }
   ],
   "source": [
    "valid_transactions = valid_transactions[valid_transactions['transaction_type'].notnull()].copy()\n",
    "valid_transactions.info()\n"
   ]
  },
  {
   "cell_type": "markdown",
   "metadata": {},
   "source": [
    "Done, lets get the `currency` and the `amount transacted`."
   ]
  },
  {
   "cell_type": "code",
   "execution_count": 19,
   "metadata": {},
   "outputs": [
    {
     "name": "stdout",
     "output_type": "stream",
     "text": [
      "<class 'pandas.core.frame.DataFrame'>\n",
      "Int64Index: 2531 entries, 0 to 3079\n",
      "Data columns (total 11 columns):\n",
      " #   Column                        Non-Null Count  Dtype         \n",
      "---  ------                        --------------  -----         \n",
      " 0   address                       2531 non-null   object        \n",
      " 1   body                          2531 non-null   object        \n",
      " 2   date                          2531 non-null   datetime64[ns]\n",
      " 3   unique_id                     2531 non-null   object        \n",
      " 4   transaction_id                2531 non-null   bool          \n",
      " 5   transaction_status_extracted  2531 non-null   object        \n",
      " 6   transaction_type              2531 non-null   object        \n",
      " 7   transaction_currency          2531 non-null   object        \n",
      " 8   transaction_amount            2531 non-null   object        \n",
      " 9   balance_currency              2531 non-null   object        \n",
      " 10  balance_amount                2531 non-null   object        \n",
      "dtypes: bool(1), datetime64[ns](1), object(9)\n",
      "memory usage: 220.0+ KB\n"
     ]
    }
   ],
   "source": [
    "def extract_currency_amounts(text):\n",
    "    # Regex pattern to find all occurrences of 'Ksh', 'KSh', or 'KES' followed by an amount\n",
    "    pattern = r'(Ksh|KSh|KES)\\s*([\\d,]+\\.\\d{2})'\n",
    "    \n",
    "    # Find all matches\n",
    "    matches = re.findall(pattern, text)\n",
    "    \n",
    "    if matches:\n",
    "        # First match for transaction (currency and amount)\n",
    "        transaction_currency, transaction_amount = matches[0]\n",
    "        # Last match for balance (currency and amount)\n",
    "        balance_currency, balance_amount = matches[-1]\n",
    "    else:\n",
    "        # If no match found, return None\n",
    "        transaction_currency = transaction_amount = balance_currency = balance_amount = None\n",
    "    \n",
    "    return pd.Series([transaction_currency, transaction_amount, balance_currency, balance_amount])\n",
    "\n",
    "valid_transactions[['transaction_currency', 'transaction_amount', 'balance_currency', 'balance_amount']] = valid_transactions['body'].apply(extract_currency_amounts)\n",
    "\n",
    "valid_transactions.info()"
   ]
  },
  {
   "cell_type": "code",
   "execution_count": 20,
   "metadata": {},
   "outputs": [
    {
     "name": "stdout",
     "output_type": "stream",
     "text": [
      "<class 'pandas.core.frame.DataFrame'>\n",
      "Int64Index: 2531 entries, 0 to 3079\n",
      "Data columns (total 11 columns):\n",
      " #   Column                        Non-Null Count  Dtype         \n",
      "---  ------                        --------------  -----         \n",
      " 0   address                       2531 non-null   object        \n",
      " 1   body                          2531 non-null   object        \n",
      " 2   date                          2531 non-null   datetime64[ns]\n",
      " 3   unique_id                     2531 non-null   object        \n",
      " 4   transaction_id                2531 non-null   bool          \n",
      " 5   transaction_status_extracted  2531 non-null   object        \n",
      " 6   transaction_type              2531 non-null   object        \n",
      " 7   transaction_currency          2531 non-null   object        \n",
      " 8   transaction_amount            2531 non-null   float64       \n",
      " 9   balance_currency              2531 non-null   object        \n",
      " 10  balance_amount                2531 non-null   float64       \n",
      "dtypes: bool(1), datetime64[ns](1), float64(2), object(7)\n",
      "memory usage: 220.0+ KB\n"
     ]
    }
   ],
   "source": [
    "#standardizing the datatypes for the columns\n",
    "def convert(amount):\n",
    "    if pd.isna(amount):\n",
    "        return None\n",
    "    return float(amount.replace(',', ''))\n",
    "\n",
    "valid_transactions['balance_amount'] = valid_transactions['balance_amount'].apply(convert)\n",
    "valid_transactions['transaction_amount'] = valid_transactions['transaction_amount'].apply(convert)\n",
    "\n",
    "valid_transactions.info()"
   ]
  },
  {
   "cell_type": "code",
   "execution_count": 21,
   "metadata": {},
   "outputs": [
    {
     "data": {
      "text/plain": [
       "'SDJ4N12JZY Confirmed. On 19/4/24 at 10:03 AM Take Ksh300.00 cash from NICKSON MIDUNGA CHOGO Your M-PESA float balance is Ksh83,107.00. Click the link to Download M-Pesa Agent App and Transact the SMART way https://bit.ly/3Ll6JQU'"
      ]
     },
     "execution_count": 21,
     "metadata": {},
     "output_type": "execute_result"
    }
   ],
   "source": [
    "#lets move to extracting the customer's names\n",
    "valid_transactions['body'].iloc[4]"
   ]
  },
  {
   "cell_type": "code",
   "execution_count": 22,
   "metadata": {},
   "outputs": [
    {
     "name": "stdout",
     "output_type": "stream",
     "text": [
      "<class 'pandas.core.frame.DataFrame'>\n",
      "Int64Index: 2531 entries, 0 to 3079\n",
      "Data columns (total 12 columns):\n",
      " #   Column                        Non-Null Count  Dtype         \n",
      "---  ------                        --------------  -----         \n",
      " 0   address                       2531 non-null   object        \n",
      " 1   body                          2531 non-null   object        \n",
      " 2   date                          2531 non-null   datetime64[ns]\n",
      " 3   unique_id                     2531 non-null   object        \n",
      " 4   transaction_id                2531 non-null   bool          \n",
      " 5   transaction_status_extracted  2531 non-null   object        \n",
      " 6   transaction_type              2531 non-null   object        \n",
      " 7   transaction_currency          2531 non-null   object        \n",
      " 8   transaction_amount            2531 non-null   float64       \n",
      " 9   balance_currency              2531 non-null   object        \n",
      " 10  balance_amount                2531 non-null   float64       \n",
      " 11  names                         2531 non-null   object        \n",
      "dtypes: bool(1), datetime64[ns](1), float64(2), object(8)\n",
      "memory usage: 239.8+ KB\n"
     ]
    }
   ],
   "source": [
    "#lets extract customer names\n",
    "def extract_names(text):\n",
    "    names_pattern = r'(?:from|to)\\s([A-Za-z\\s]+)\\s(?:Your|New)'\n",
    "    match = re.search(names_pattern, text)\n",
    "\n",
    "    if match:\n",
    "        return match.group(1).upper()\n",
    "    else:\n",
    "        return 'working balance'\n",
    "    \n",
    "\n",
    "valid_transactions['names'] = valid_transactions['body'].apply(extract_names)\n",
    "valid_transactions.info()"
   ]
  },
  {
   "cell_type": "code",
   "execution_count": 23,
   "metadata": {},
   "outputs": [
    {
     "data": {
      "text/html": [
       "<div>\n",
       "<style scoped>\n",
       "    .dataframe tbody tr th:only-of-type {\n",
       "        vertical-align: middle;\n",
       "    }\n",
       "\n",
       "    .dataframe tbody tr th {\n",
       "        vertical-align: top;\n",
       "    }\n",
       "\n",
       "    .dataframe thead th {\n",
       "        text-align: right;\n",
       "    }\n",
       "</style>\n",
       "<table border=\"1\" class=\"dataframe\">\n",
       "  <thead>\n",
       "    <tr style=\"text-align: right;\">\n",
       "      <th></th>\n",
       "      <th>address</th>\n",
       "      <th>body</th>\n",
       "      <th>date</th>\n",
       "      <th>unique_id</th>\n",
       "      <th>transaction_id</th>\n",
       "      <th>transaction_status_extracted</th>\n",
       "      <th>transaction_type</th>\n",
       "      <th>transaction_currency</th>\n",
       "      <th>transaction_amount</th>\n",
       "      <th>balance_currency</th>\n",
       "      <th>balance_amount</th>\n",
       "      <th>names</th>\n",
       "    </tr>\n",
       "  </thead>\n",
       "  <tbody>\n",
       "    <tr>\n",
       "      <th>0</th>\n",
       "      <td>MPESA</td>\n",
       "      <td>SDJ7N53FS3 Confirmed. On 19/4/24 at 10:38 AM T...</td>\n",
       "      <td>2024-04-19 10:38:33</td>\n",
       "      <td>SDJ7N53FS3</td>\n",
       "      <td>True</td>\n",
       "      <td>Confirmed</td>\n",
       "      <td>Take</td>\n",
       "      <td>Ksh</td>\n",
       "      <td>1100.0</td>\n",
       "      <td>Ksh</td>\n",
       "      <td>82007.0</td>\n",
       "      <td>ROBERT MAHINDA</td>\n",
       "    </tr>\n",
       "    <tr>\n",
       "      <th>1</th>\n",
       "      <td>MPESA</td>\n",
       "      <td>SDJ9N5M21L Confirmed. On 19/4/24 at 10:42 AM T...</td>\n",
       "      <td>2024-04-19 10:43:07</td>\n",
       "      <td>SDJ9N5M21L</td>\n",
       "      <td>True</td>\n",
       "      <td>Confirmed</td>\n",
       "      <td>Take</td>\n",
       "      <td>Ksh</td>\n",
       "      <td>1100.0</td>\n",
       "      <td>Ksh</td>\n",
       "      <td>80907.0</td>\n",
       "      <td>BRIAN CHACHA</td>\n",
       "    </tr>\n",
       "    <tr>\n",
       "      <th>2</th>\n",
       "      <td>MPESA</td>\n",
       "      <td>SDJ9MU5DIL Confirmed. On 19/4/24 at 8:57 AM Ta...</td>\n",
       "      <td>2024-04-19 10:43:09</td>\n",
       "      <td>SDJ9MU5DIL</td>\n",
       "      <td>True</td>\n",
       "      <td>Confirmed</td>\n",
       "      <td>Take</td>\n",
       "      <td>Ksh</td>\n",
       "      <td>1100.0</td>\n",
       "      <td>Ksh</td>\n",
       "      <td>97007.0</td>\n",
       "      <td>CHRISTOPHER RWARA</td>\n",
       "    </tr>\n",
       "    <tr>\n",
       "      <th>3</th>\n",
       "      <td>MPESA</td>\n",
       "      <td>SDJ2MYL302 Confirmed. On 19/4/24 at 9:39 AM Ta...</td>\n",
       "      <td>2024-04-19 10:43:10</td>\n",
       "      <td>SDJ2MYL302</td>\n",
       "      <td>True</td>\n",
       "      <td>Confirmed</td>\n",
       "      <td>Take</td>\n",
       "      <td>Ksh</td>\n",
       "      <td>100.0</td>\n",
       "      <td>Ksh</td>\n",
       "      <td>83407.0</td>\n",
       "      <td>JOHN TIMPANKO</td>\n",
       "    </tr>\n",
       "    <tr>\n",
       "      <th>4</th>\n",
       "      <td>MPESA</td>\n",
       "      <td>SDJ4N12JZY Confirmed. On 19/4/24 at 10:03 AM T...</td>\n",
       "      <td>2024-04-19 10:43:13</td>\n",
       "      <td>SDJ4N12JZY</td>\n",
       "      <td>True</td>\n",
       "      <td>Confirmed</td>\n",
       "      <td>Take</td>\n",
       "      <td>Ksh</td>\n",
       "      <td>300.0</td>\n",
       "      <td>Ksh</td>\n",
       "      <td>83107.0</td>\n",
       "      <td>NICKSON MIDUNGA CHOGO</td>\n",
       "    </tr>\n",
       "    <tr>\n",
       "      <th>...</th>\n",
       "      <td>...</td>\n",
       "      <td>...</td>\n",
       "      <td>...</td>\n",
       "      <td>...</td>\n",
       "      <td>...</td>\n",
       "      <td>...</td>\n",
       "      <td>...</td>\n",
       "      <td>...</td>\n",
       "      <td>...</td>\n",
       "      <td>...</td>\n",
       "      <td>...</td>\n",
       "      <td>...</td>\n",
       "    </tr>\n",
       "    <tr>\n",
       "      <th>3075</th>\n",
       "      <td>MPESA</td>\n",
       "      <td>SGS245L5GQ Confirmed. On 28/7/24 at 10:55 AM T...</td>\n",
       "      <td>2024-07-28 10:55:57</td>\n",
       "      <td>SGS245L5GQ</td>\n",
       "      <td>True</td>\n",
       "      <td>Confirmed</td>\n",
       "      <td>Take</td>\n",
       "      <td>Ksh</td>\n",
       "      <td>100.0</td>\n",
       "      <td>Ksh</td>\n",
       "      <td>95611.0</td>\n",
       "      <td>VERONICA MUTUNGA</td>\n",
       "    </tr>\n",
       "    <tr>\n",
       "      <th>3076</th>\n",
       "      <td>MPESA</td>\n",
       "      <td>SGS8488HBK Confirmed. on 28/7/24 at 11:20 AM G...</td>\n",
       "      <td>2024-07-28 11:20:05</td>\n",
       "      <td>SGS8488HBK</td>\n",
       "      <td>True</td>\n",
       "      <td>Confirmed</td>\n",
       "      <td>Give</td>\n",
       "      <td>Ksh</td>\n",
       "      <td>100.0</td>\n",
       "      <td>Ksh</td>\n",
       "      <td>95711.0</td>\n",
       "      <td>WILLIAM KEIRO</td>\n",
       "    </tr>\n",
       "    <tr>\n",
       "      <th>3077</th>\n",
       "      <td>MPESA</td>\n",
       "      <td>SGS449HBC6 Confirmed. On 28/7/24 at 11:31 AM T...</td>\n",
       "      <td>2024-07-28 11:31:31</td>\n",
       "      <td>SGS449HBC6</td>\n",
       "      <td>True</td>\n",
       "      <td>Confirmed</td>\n",
       "      <td>Take</td>\n",
       "      <td>Ksh</td>\n",
       "      <td>500.0</td>\n",
       "      <td>Ksh</td>\n",
       "      <td>95211.0</td>\n",
       "      <td>JUDITH ODWORI</td>\n",
       "    </tr>\n",
       "    <tr>\n",
       "      <th>3078</th>\n",
       "      <td>MPESA</td>\n",
       "      <td>SGS949ZVIH Confirmed. On 28/7/24 at 11:35 AM T...</td>\n",
       "      <td>2024-07-28 11:36:22</td>\n",
       "      <td>SGS949ZVIH</td>\n",
       "      <td>True</td>\n",
       "      <td>Confirmed</td>\n",
       "      <td>Take</td>\n",
       "      <td>Ksh</td>\n",
       "      <td>250.0</td>\n",
       "      <td>Ksh</td>\n",
       "      <td>94961.0</td>\n",
       "      <td>DYNAH WAMBUGU</td>\n",
       "    </tr>\n",
       "    <tr>\n",
       "      <th>3079</th>\n",
       "      <td>MPESA</td>\n",
       "      <td>SGS04DA44U Confirmed. On 28/7/24 at 12:05 PM T...</td>\n",
       "      <td>2024-07-28 12:05:47</td>\n",
       "      <td>SGS04DA44U</td>\n",
       "      <td>True</td>\n",
       "      <td>Confirmed</td>\n",
       "      <td>Take</td>\n",
       "      <td>Ksh</td>\n",
       "      <td>1700.0</td>\n",
       "      <td>Ksh</td>\n",
       "      <td>93261.0</td>\n",
       "      <td>HEZRON CHACHA</td>\n",
       "    </tr>\n",
       "  </tbody>\n",
       "</table>\n",
       "<p>2531 rows × 12 columns</p>\n",
       "</div>"
      ],
      "text/plain": [
       "     address                                               body  \\\n",
       "0      MPESA  SDJ7N53FS3 Confirmed. On 19/4/24 at 10:38 AM T...   \n",
       "1      MPESA  SDJ9N5M21L Confirmed. On 19/4/24 at 10:42 AM T...   \n",
       "2      MPESA  SDJ9MU5DIL Confirmed. On 19/4/24 at 8:57 AM Ta...   \n",
       "3      MPESA  SDJ2MYL302 Confirmed. On 19/4/24 at 9:39 AM Ta...   \n",
       "4      MPESA  SDJ4N12JZY Confirmed. On 19/4/24 at 10:03 AM T...   \n",
       "...      ...                                                ...   \n",
       "3075   MPESA  SGS245L5GQ Confirmed. On 28/7/24 at 10:55 AM T...   \n",
       "3076   MPESA  SGS8488HBK Confirmed. on 28/7/24 at 11:20 AM G...   \n",
       "3077   MPESA  SGS449HBC6 Confirmed. On 28/7/24 at 11:31 AM T...   \n",
       "3078   MPESA  SGS949ZVIH Confirmed. On 28/7/24 at 11:35 AM T...   \n",
       "3079   MPESA  SGS04DA44U Confirmed. On 28/7/24 at 12:05 PM T...   \n",
       "\n",
       "                    date   unique_id  transaction_id  \\\n",
       "0    2024-04-19 10:38:33  SDJ7N53FS3            True   \n",
       "1    2024-04-19 10:43:07  SDJ9N5M21L            True   \n",
       "2    2024-04-19 10:43:09  SDJ9MU5DIL            True   \n",
       "3    2024-04-19 10:43:10  SDJ2MYL302            True   \n",
       "4    2024-04-19 10:43:13  SDJ4N12JZY            True   \n",
       "...                  ...         ...             ...   \n",
       "3075 2024-07-28 10:55:57  SGS245L5GQ            True   \n",
       "3076 2024-07-28 11:20:05  SGS8488HBK            True   \n",
       "3077 2024-07-28 11:31:31  SGS449HBC6            True   \n",
       "3078 2024-07-28 11:36:22  SGS949ZVIH            True   \n",
       "3079 2024-07-28 12:05:47  SGS04DA44U            True   \n",
       "\n",
       "     transaction_status_extracted transaction_type transaction_currency  \\\n",
       "0                       Confirmed             Take                  Ksh   \n",
       "1                       Confirmed             Take                  Ksh   \n",
       "2                       Confirmed             Take                  Ksh   \n",
       "3                       Confirmed             Take                  Ksh   \n",
       "4                       Confirmed             Take                  Ksh   \n",
       "...                           ...              ...                  ...   \n",
       "3075                    Confirmed             Take                  Ksh   \n",
       "3076                    Confirmed             Give                  Ksh   \n",
       "3077                    Confirmed             Take                  Ksh   \n",
       "3078                    Confirmed             Take                  Ksh   \n",
       "3079                    Confirmed             Take                  Ksh   \n",
       "\n",
       "      transaction_amount balance_currency  balance_amount  \\\n",
       "0                 1100.0              Ksh         82007.0   \n",
       "1                 1100.0              Ksh         80907.0   \n",
       "2                 1100.0              Ksh         97007.0   \n",
       "3                  100.0              Ksh         83407.0   \n",
       "4                  300.0              Ksh         83107.0   \n",
       "...                  ...              ...             ...   \n",
       "3075               100.0              Ksh         95611.0   \n",
       "3076               100.0              Ksh         95711.0   \n",
       "3077               500.0              Ksh         95211.0   \n",
       "3078               250.0              Ksh         94961.0   \n",
       "3079              1700.0              Ksh         93261.0   \n",
       "\n",
       "                      names  \n",
       "0            ROBERT MAHINDA  \n",
       "1              BRIAN CHACHA  \n",
       "2         CHRISTOPHER RWARA  \n",
       "3             JOHN TIMPANKO  \n",
       "4     NICKSON MIDUNGA CHOGO  \n",
       "...                     ...  \n",
       "3075       VERONICA MUTUNGA  \n",
       "3076         WILLIAM KEIRO   \n",
       "3077          JUDITH ODWORI  \n",
       "3078          DYNAH WAMBUGU  \n",
       "3079          HEZRON CHACHA  \n",
       "\n",
       "[2531 rows x 12 columns]"
      ]
     },
     "execution_count": 23,
     "metadata": {},
     "output_type": "execute_result"
    }
   ],
   "source": [
    "valid_transactions"
   ]
  },
  {
   "cell_type": "code",
   "execution_count": 24,
   "metadata": {},
   "outputs": [
    {
     "name": "stdout",
     "output_type": "stream",
     "text": [
      "<class 'pandas.core.frame.DataFrame'>\n",
      "Int64Index: 2531 entries, 0 to 3079\n",
      "Data columns (total 14 columns):\n",
      " #   Column                        Non-Null Count  Dtype         \n",
      "---  ------                        --------------  -----         \n",
      " 0   address                       2531 non-null   object        \n",
      " 1   body                          2531 non-null   object        \n",
      " 2   date                          2531 non-null   datetime64[ns]\n",
      " 3   unique_id                     2531 non-null   object        \n",
      " 4   transaction_id                2531 non-null   bool          \n",
      " 5   transaction_status_extracted  2531 non-null   object        \n",
      " 6   transaction_type              2531 non-null   object        \n",
      " 7   transaction_currency          2531 non-null   object        \n",
      " 8   transaction_amount            2531 non-null   float64       \n",
      " 9   balance_currency              2531 non-null   object        \n",
      " 10  balance_amount                2531 non-null   float64       \n",
      " 11  names                         2531 non-null   object        \n",
      " 12  other_date                    2531 non-null   object        \n",
      " 13  time                          2531 non-null   object        \n",
      "dtypes: bool(1), datetime64[ns](1), float64(2), object(10)\n",
      "memory usage: 279.3+ KB\n"
     ]
    }
   ],
   "source": [
    "def extract_date(text):\n",
    "    # Regex pattern to capture the date in DD/MM/YY format\n",
    "    date_pattern = r'(\\d{1,2}/\\d{1,2}/\\d{2})'\n",
    "    \n",
    "    # Search for the pattern\n",
    "    match = re.search(date_pattern, text)\n",
    "    \n",
    "    if match:\n",
    "        # Return the captured date\n",
    "        return match.group(1)\n",
    "    else:\n",
    "        return None\n",
    "\n",
    "# Function to extract the time from the text\n",
    "def extract_time(text):\n",
    "    # Regex pattern to capture the time (HH:MM AM/PM format)\n",
    "    time_pattern = r'(\\d{1,2}:\\d{2}\\s[APM]{2})'\n",
    "    \n",
    "    # Search for the pattern\n",
    "    match = re.search(time_pattern, text)\n",
    "    \n",
    "    if match:\n",
    "        # Return the captured time\n",
    "        return match.group(1)\n",
    "    else:\n",
    "        return None\n",
    "\n",
    "# Apply the functions to create new columns\n",
    "valid_transactions['other_date'] = valid_transactions['body'].apply(extract_date)\n",
    "valid_transactions['time'] = valid_transactions['body'].apply(extract_time)\n",
    "valid_transactions.info()"
   ]
  },
  {
   "cell_type": "code",
   "execution_count": 25,
   "metadata": {},
   "outputs": [
    {
     "data": {
      "text/html": [
       "<div>\n",
       "<style scoped>\n",
       "    .dataframe tbody tr th:only-of-type {\n",
       "        vertical-align: middle;\n",
       "    }\n",
       "\n",
       "    .dataframe tbody tr th {\n",
       "        vertical-align: top;\n",
       "    }\n",
       "\n",
       "    .dataframe thead th {\n",
       "        text-align: right;\n",
       "    }\n",
       "</style>\n",
       "<table border=\"1\" class=\"dataframe\">\n",
       "  <thead>\n",
       "    <tr style=\"text-align: right;\">\n",
       "      <th></th>\n",
       "      <th>address</th>\n",
       "      <th>body</th>\n",
       "      <th>date</th>\n",
       "      <th>unique_id</th>\n",
       "      <th>transaction_id</th>\n",
       "      <th>transaction_status_extracted</th>\n",
       "      <th>transaction_type</th>\n",
       "      <th>transaction_currency</th>\n",
       "      <th>transaction_amount</th>\n",
       "      <th>balance_currency</th>\n",
       "      <th>balance_amount</th>\n",
       "      <th>names</th>\n",
       "      <th>other_date</th>\n",
       "      <th>time</th>\n",
       "    </tr>\n",
       "  </thead>\n",
       "  <tbody>\n",
       "    <tr>\n",
       "      <th>0</th>\n",
       "      <td>MPESA</td>\n",
       "      <td>SDJ7N53FS3 Confirmed. On 19/4/24 at 10:38 AM T...</td>\n",
       "      <td>2024-04-19 10:38:33</td>\n",
       "      <td>SDJ7N53FS3</td>\n",
       "      <td>True</td>\n",
       "      <td>Confirmed</td>\n",
       "      <td>Take</td>\n",
       "      <td>Ksh</td>\n",
       "      <td>1100.0</td>\n",
       "      <td>Ksh</td>\n",
       "      <td>82007.0</td>\n",
       "      <td>ROBERT MAHINDA</td>\n",
       "      <td>19/4/24</td>\n",
       "      <td>10:38 AM</td>\n",
       "    </tr>\n",
       "    <tr>\n",
       "      <th>1</th>\n",
       "      <td>MPESA</td>\n",
       "      <td>SDJ9N5M21L Confirmed. On 19/4/24 at 10:42 AM T...</td>\n",
       "      <td>2024-04-19 10:43:07</td>\n",
       "      <td>SDJ9N5M21L</td>\n",
       "      <td>True</td>\n",
       "      <td>Confirmed</td>\n",
       "      <td>Take</td>\n",
       "      <td>Ksh</td>\n",
       "      <td>1100.0</td>\n",
       "      <td>Ksh</td>\n",
       "      <td>80907.0</td>\n",
       "      <td>BRIAN CHACHA</td>\n",
       "      <td>19/4/24</td>\n",
       "      <td>10:42 AM</td>\n",
       "    </tr>\n",
       "    <tr>\n",
       "      <th>2</th>\n",
       "      <td>MPESA</td>\n",
       "      <td>SDJ9MU5DIL Confirmed. On 19/4/24 at 8:57 AM Ta...</td>\n",
       "      <td>2024-04-19 10:43:09</td>\n",
       "      <td>SDJ9MU5DIL</td>\n",
       "      <td>True</td>\n",
       "      <td>Confirmed</td>\n",
       "      <td>Take</td>\n",
       "      <td>Ksh</td>\n",
       "      <td>1100.0</td>\n",
       "      <td>Ksh</td>\n",
       "      <td>97007.0</td>\n",
       "      <td>CHRISTOPHER RWARA</td>\n",
       "      <td>19/4/24</td>\n",
       "      <td>8:57 AM</td>\n",
       "    </tr>\n",
       "    <tr>\n",
       "      <th>3</th>\n",
       "      <td>MPESA</td>\n",
       "      <td>SDJ2MYL302 Confirmed. On 19/4/24 at 9:39 AM Ta...</td>\n",
       "      <td>2024-04-19 10:43:10</td>\n",
       "      <td>SDJ2MYL302</td>\n",
       "      <td>True</td>\n",
       "      <td>Confirmed</td>\n",
       "      <td>Take</td>\n",
       "      <td>Ksh</td>\n",
       "      <td>100.0</td>\n",
       "      <td>Ksh</td>\n",
       "      <td>83407.0</td>\n",
       "      <td>JOHN TIMPANKO</td>\n",
       "      <td>19/4/24</td>\n",
       "      <td>9:39 AM</td>\n",
       "    </tr>\n",
       "    <tr>\n",
       "      <th>4</th>\n",
       "      <td>MPESA</td>\n",
       "      <td>SDJ4N12JZY Confirmed. On 19/4/24 at 10:03 AM T...</td>\n",
       "      <td>2024-04-19 10:43:13</td>\n",
       "      <td>SDJ4N12JZY</td>\n",
       "      <td>True</td>\n",
       "      <td>Confirmed</td>\n",
       "      <td>Take</td>\n",
       "      <td>Ksh</td>\n",
       "      <td>300.0</td>\n",
       "      <td>Ksh</td>\n",
       "      <td>83107.0</td>\n",
       "      <td>NICKSON MIDUNGA CHOGO</td>\n",
       "      <td>19/4/24</td>\n",
       "      <td>10:03 AM</td>\n",
       "    </tr>\n",
       "  </tbody>\n",
       "</table>\n",
       "</div>"
      ],
      "text/plain": [
       "  address                                               body  \\\n",
       "0   MPESA  SDJ7N53FS3 Confirmed. On 19/4/24 at 10:38 AM T...   \n",
       "1   MPESA  SDJ9N5M21L Confirmed. On 19/4/24 at 10:42 AM T...   \n",
       "2   MPESA  SDJ9MU5DIL Confirmed. On 19/4/24 at 8:57 AM Ta...   \n",
       "3   MPESA  SDJ2MYL302 Confirmed. On 19/4/24 at 9:39 AM Ta...   \n",
       "4   MPESA  SDJ4N12JZY Confirmed. On 19/4/24 at 10:03 AM T...   \n",
       "\n",
       "                 date   unique_id  transaction_id  \\\n",
       "0 2024-04-19 10:38:33  SDJ7N53FS3            True   \n",
       "1 2024-04-19 10:43:07  SDJ9N5M21L            True   \n",
       "2 2024-04-19 10:43:09  SDJ9MU5DIL            True   \n",
       "3 2024-04-19 10:43:10  SDJ2MYL302            True   \n",
       "4 2024-04-19 10:43:13  SDJ4N12JZY            True   \n",
       "\n",
       "  transaction_status_extracted transaction_type transaction_currency  \\\n",
       "0                    Confirmed             Take                  Ksh   \n",
       "1                    Confirmed             Take                  Ksh   \n",
       "2                    Confirmed             Take                  Ksh   \n",
       "3                    Confirmed             Take                  Ksh   \n",
       "4                    Confirmed             Take                  Ksh   \n",
       "\n",
       "   transaction_amount balance_currency  balance_amount                  names  \\\n",
       "0              1100.0              Ksh         82007.0         ROBERT MAHINDA   \n",
       "1              1100.0              Ksh         80907.0           BRIAN CHACHA   \n",
       "2              1100.0              Ksh         97007.0      CHRISTOPHER RWARA   \n",
       "3               100.0              Ksh         83407.0          JOHN TIMPANKO   \n",
       "4               300.0              Ksh         83107.0  NICKSON MIDUNGA CHOGO   \n",
       "\n",
       "  other_date      time  \n",
       "0    19/4/24  10:38 AM  \n",
       "1    19/4/24  10:42 AM  \n",
       "2    19/4/24   8:57 AM  \n",
       "3    19/4/24   9:39 AM  \n",
       "4    19/4/24  10:03 AM  "
      ]
     },
     "execution_count": 25,
     "metadata": {},
     "output_type": "execute_result"
    }
   ],
   "source": [
    "valid_transactions.head()"
   ]
  },
  {
   "cell_type": "markdown",
   "metadata": {},
   "source": [
    "We are done cleaning the dataset, so lets move to visuals and we'll drop the unnecessary columns during modelling if need be.\n",
    "\n",
    "## Univariate Analysis\n",
    "Lets look at the distributions of different columns."
   ]
  },
  {
   "cell_type": "code",
   "execution_count": 26,
   "metadata": {},
   "outputs": [
    {
     "data": {
      "text/plain": [
       "'SDL3WG59Y7 Confirmed. On 21/4/24 at 10:12 PM Take Ksh297.00 cash from Olivia Kilonzo Your M-PESA float balance is Ksh12,321.00. Click the link to Download M-Pesa Agent App and Transact the SMART way https://bit.ly/3Ll6JQU'"
      ]
     },
     "execution_count": 26,
     "metadata": {},
     "output_type": "execute_result"
    }
   ],
   "source": [
    "valid_transactions['body'].iloc[71]"
   ]
  },
  {
   "cell_type": "code",
   "execution_count": 49,
   "metadata": {},
   "outputs": [
    {
     "name": "stdout",
     "output_type": "stream",
     "text": [
      "<class 'pandas.core.frame.DataFrame'>\n",
      "Int64Index: 2531 entries, 0 to 3079\n",
      "Data columns (total 11 columns):\n",
      " #   Column                        Non-Null Count  Dtype  \n",
      "---  ------                        --------------  -----  \n",
      " 0   time                          2531 non-null   object \n",
      " 1   other_date                    2531 non-null   object \n",
      " 2   address                       2531 non-null   object \n",
      " 3   unique_id                     2531 non-null   object \n",
      " 4   transaction_status_extracted  2531 non-null   object \n",
      " 5   transaction_type              2531 non-null   object \n",
      " 6   names                         2531 non-null   object \n",
      " 7   transaction_currency          2531 non-null   object \n",
      " 8   transaction_amount            2531 non-null   float64\n",
      " 9   balance_currency              2531 non-null   object \n",
      " 10  balance_amount                2531 non-null   float64\n",
      "dtypes: float64(2), object(9)\n",
      "memory usage: 237.3+ KB\n"
     ]
    }
   ],
   "source": [
    "columns_to_keep = [\n",
    "    'time',\n",
    "    'other_date',\n",
    "    'address',\n",
    "    'unique_id',\n",
    "    'transaction_status_extracted',\n",
    "    'transaction_type',\n",
    "    'names',\n",
    "    'transaction_currency',\n",
    "    'transaction_amount',\n",
    "    'balance_currency',\n",
    "    'balance_amount'\n",
    "]\n",
    "\n",
    "# v = valid_transactions[columns_to_keep].head()\n",
    "# print(v)\n",
    "model_df = valid_transactions[columns_to_keep]\n",
    "model_df.info()"
   ]
  },
  {
   "cell_type": "code",
   "execution_count": 50,
   "metadata": {},
   "outputs": [
    {
     "name": "stdout",
     "output_type": "stream",
     "text": [
      "<class 'pandas.core.frame.DataFrame'>\n",
      "Int64Index: 2531 entries, 0 to 3079\n",
      "Data columns (total 11 columns):\n",
      " #   Column              Non-Null Count  Dtype  \n",
      "---  ------              --------------  -----  \n",
      " 0   time                2531 non-null   object \n",
      " 1   date                2531 non-null   object \n",
      " 2   sender              2531 non-null   object \n",
      " 3   id                  2531 non-null   object \n",
      " 4   status              2531 non-null   object \n",
      " 5   type                2531 non-null   object \n",
      " 6   customer_id         2531 non-null   object \n",
      " 7   currency            2531 non-null   object \n",
      " 8   transaction_amount  2531 non-null   float64\n",
      " 9   currency            2531 non-null   object \n",
      " 10  balance             2531 non-null   float64\n",
      "dtypes: float64(2), object(9)\n",
      "memory usage: 237.3+ KB\n"
     ]
    }
   ],
   "source": [
    "renaming = {\n",
    "    'address':'sender',\n",
    "    'unique_id':'id',\n",
    "    'transaction_status_extracted':'status',\n",
    "    'transaction_type':'type',\n",
    "    'transaction_currency':'currency',\n",
    "    'transaction_amount':'transaction_amount',\n",
    "    'balance_currency':'currency',\n",
    "    'balance_amount':'balance',\n",
    "    'names':'customer_id',\n",
    "    'other_date':'date'\n",
    "}\n",
    "\n",
    "model_df = model_df.rename(columns=renaming).copy()\n",
    "model_df.info()"
   ]
  },
  {
   "cell_type": "code",
   "execution_count": 51,
   "metadata": {},
   "outputs": [
    {
     "data": {
      "text/plain": [
       "<Axes: title={'center': 'Distribution of Transaction Types'}>"
      ]
     },
     "execution_count": 51,
     "metadata": {},
     "output_type": "execute_result"
    },
    {
     "data": {
      "image/png": "[encoded data removed]",
      "text/plain": [
       "<Figure size 640x480 with 1 Axes>"
      ]
     },
     "metadata": {},
     "output_type": "display_data"
    }
   ],
   "source": [
    "#lets begin with visualization of the transaction types\n",
    "\n",
    "type_count = model_df['type'].value_counts()\n",
    "\n",
    "type_count.plot(kind='bar', title='Distribution of Transaction Types')"
   ]
  },
  {
   "cell_type": "markdown",
   "metadata": {},
   "source": [
    "It seems that there are significantly more deposits than withdrawals as represented by `take` and `give` respectively."
   ]
  },
  {
   "cell_type": "code",
   "execution_count": 52,
   "metadata": {},
   "outputs": [
    {
     "data": {
      "text/plain": [
       "<Axes: title={'center': 'Transactions Per Day'}, xlabel='date'>"
      ]
     },
     "execution_count": 52,
     "metadata": {},
     "output_type": "execute_result"
    },
    {
     "data": {
      "image/png": "[encoded data removed]",
      "text/plain": [
       "<Figure size 640x480 with 1 Axes>"
      ]
     },
     "metadata": {},
     "output_type": "display_data"
    }
   ],
   "source": [
    "#line chart for transactions per day\n",
    "model_df['date'] = pd.to_datetime(model_df['date'])\n",
    "\n",
    "\n",
    "model_df['date'].groupby(model_df['date'].dt.date).size().plot(kind='line', title='Transactions Per Day')"
   ]
  },
  {
   "cell_type": "code",
   "execution_count": 53,
   "metadata": {},
   "outputs": [
    {
     "data": {
      "text/plain": [
       "<Axes: title={'center': 'Transactions Per Day'}, xlabel='time'>"
      ]
     },
     "execution_count": 53,
     "metadata": {},
     "output_type": "execute_result"
    },
    {
     "data": {
      "image/png": "[encoded data removed]",
      "text/plain": [
       "<Figure size 640x480 with 1 Axes>"
      ]
     },
     "metadata": {},
     "output_type": "display_data"
    }
   ],
   "source": [
    "model_df['time'] = pd.to_datetime(model_df['time'])\n",
    "\n",
    "model_df['time'].groupby(model_df['time'].dt.hour).size().plot(kind='line', title='Transactions Per Day')"
   ]
  },
  {
   "cell_type": "code",
   "execution_count": 54,
   "metadata": {},
   "outputs": [
    {
     "data": {
      "text/plain": [
       "<Axes: title={'center': 'Transaction Volume In a day'}, xlabel='time_of_day'>"
      ]
     },
     "execution_count": 54,
     "metadata": {},
     "output_type": "execute_result"
    },
    {
     "data": {
      "image/png": "[encoded data removed]",
      "text/plain": [
       "<Figure size 640x480 with 1 Axes>"
      ]
     },
     "metadata": {},
     "output_type": "display_data"
    }
   ],
   "source": [
    "model_df['hour'] = model_df['time'].dt.hour\n",
    "\n",
    "def get_time(hour):\n",
    "    if 6 <= hour <12:\n",
    "        return 'Morning'\n",
    "    elif 12 <= hour <= 18:\n",
    "        return 'Midday'\n",
    "    elif 18 <= hour <= 24:\n",
    "        return 'Evening'\n",
    "    else:\n",
    "        return 'Night'\n",
    "    \n",
    "\n",
    "model_df['time_of_day'] = model_df['hour'].apply(get_time)\n",
    "\n",
    "transactions_time_of_day = model_df.groupby('time_of_day').size()\n",
    "\n",
    "transactions_time_of_day.plot(kind = 'bar', title='Transaction Volume In a day')"
   ]
  },
  {
   "cell_type": "markdown",
   "metadata": {},
   "source": [
    "It seems most of the transactions happen from `12pm` to `6pm`"
   ]
  },
  {
   "cell_type": "code",
   "execution_count": 56,
   "metadata": {},
   "outputs": [
    {
     "data": {
      "text/plain": [
       "<Axes: title={'center': 'Monthly Transactions'}, xlabel='month'>"
      ]
     },
     "execution_count": 56,
     "metadata": {},
     "output_type": "execute_result"
    },
    {
     "data": {
      "image/png": "[encoded data removed]",
      "text/plain": [
       "<Figure size 640x480 with 1 Axes>"
      ]
     },
     "metadata": {},
     "output_type": "display_data"
    }
   ],
   "source": [
    "model_df['month'] = model_df['date'].dt.to_period('M')\n",
    "\n",
    "transactions_per_month = model_df.groupby('month').size()\n",
    "\n",
    "transactions_per_month.plot(kind='bar', title='Monthly Transactions')"
   ]
  },
  {
   "cell_type": "code",
   "execution_count": null,
   "metadata": {},
   "outputs": [],
   "source": [
    "#there seems to be an issue when converting the dates and times in some of the rows.\n",
    "#we'll address that"
   ]
  },
  {
   "cell_type": "code",
   "execution_count": null,
   "metadata": {},
   "outputs": [],
   "source": []
  },
  {
   "cell_type": "code",
   "execution_count": null,
   "metadata": {},
   "outputs": [],
   "source": []
  },
  {
   "cell_type": "code",
   "execution_count": null,
   "metadata": {},
   "outputs": [],
   "source": []
  }
 ],
 "metadata": {
  "kernelspec": {
   "display_name": "learn-env",
   "language": "python",
   "name": "python3"
  },
  "language_info": {
   "codemirror_mode": {
    "name": "ipython",
    "version": 3
   },
   "file_extension": ".py",
   "mimetype": "text/x-python",
   "name": "python",
   "nbconvert_exporter": "python",
   "pygments_lexer": "ipython3",
   "version": "3.11.4"
  }
 },
 "nbformat": 4,
 "nbformat_minor": 2
}
